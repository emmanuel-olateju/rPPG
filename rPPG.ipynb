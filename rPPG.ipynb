{
  "cells": [
    {
      "cell_type": "markdown",
      "source": [
        "## Prerequisites"
      ],
      "metadata": {
        "id": "htgmgJeCyFvd"
      }
    },
    {
      "cell_type": "code",
      "source": [
        "!mkdir -p dataset/scamps_videos_example/matrix\n",
        "!mkdir -p dataset/scamps_videos_example/labels\n",
        "!mkdir modules"
      ],
      "metadata": {
        "id": "DVSwkIXOehFV"
      },
      "execution_count": 1,
      "outputs": []
    },
    {
      "cell_type": "code",
      "source": [
        "! wget https://facesyntheticspubwedata.blob.core.windows.net/neurips-2022/scamps_videos_example.tar.gz\n",
        "! tar -xzvf scamps_videos_example.tar.gz -C dataset/scamps_videos_example/matrix\n",
        "! mv dataset/scamps_videos_example/matrix/scamps_videos_example/* dataset/scamps_videos_example/matrix\n",
        "! rm -rf dataset/scamps_videos_example/matrix/scamps_videos_example"
      ],
      "metadata": {
        "id": "vY7XZbwvgRFS",
        "outputId": "bdf321bb-b32c-43e9-a118-7ca045f404b3",
        "colab": {
          "base_uri": "https://localhost:8080/"
        }
      },
      "execution_count": 2,
      "outputs": [
        {
          "output_type": "stream",
          "name": "stdout",
          "text": [
            "--2024-06-05 08:36:30--  https://facesyntheticspubwedata.blob.core.windows.net/neurips-2022/scamps_videos_example.tar.gz\n",
            "Resolving facesyntheticspubwedata.blob.core.windows.net (facesyntheticspubwedata.blob.core.windows.net)... 20.38.109.4\n",
            "Connecting to facesyntheticspubwedata.blob.core.windows.net (facesyntheticspubwedata.blob.core.windows.net)|20.38.109.4|:443... connected.\n",
            "HTTP request sent, awaiting response... 200 OK\n",
            "Length: 1228897063 (1.1G) [application/octet-stream]\n",
            "Saving to: ‘scamps_videos_example.tar.gz’\n",
            "\n",
            "scamps_videos_examp 100%[===================>]   1.14G  9.24MB/s    in 2m 0s   \n",
            "\n",
            "2024-06-05 08:38:31 (9.77 MB/s) - ‘scamps_videos_example.tar.gz’ saved [1228897063/1228897063]\n",
            "\n",
            "scamps_videos_example/\n",
            "scamps_videos_example/P000009.mat\n",
            "scamps_videos_example/P000010.mat\n",
            "scamps_videos_example/P000008.mat\n",
            "scamps_videos_example/P000001.mat\n",
            "scamps_videos_example/P000002.mat\n",
            "scamps_videos_example/P000003.mat\n",
            "scamps_videos_example/P000004.mat\n",
            "scamps_videos_example/P000005.mat\n",
            "scamps_videos_example/P000006.mat\n",
            "scamps_videos_example/P000007.mat\n"
          ]
        }
      ]
    },
    {
      "cell_type": "code",
      "source": [
        "!pip install cupy-cuda11x"
      ],
      "metadata": {
        "id": "4Ev5-dp1fL_p",
        "outputId": "0ba2de3f-4b76-4a38-c67b-f0f17ed7d71e",
        "colab": {
          "base_uri": "https://localhost:8080/"
        }
      },
      "execution_count": 9,
      "outputs": [
        {
          "output_type": "stream",
          "name": "stdout",
          "text": [
            "Collecting cupy-cuda11x\n",
            "  Downloading cupy_cuda11x-13.1.0-cp310-cp310-manylinux2014_x86_64.whl (95.4 MB)\n",
            "\u001b[2K     \u001b[90m━━━━━━━━━━━━━━━━━━━━━━━━━━━━━━━━━━━━━━━━\u001b[0m \u001b[32m95.4/95.4 MB\u001b[0m \u001b[31m9.7 MB/s\u001b[0m eta \u001b[36m0:00:00\u001b[0m\n",
            "\u001b[?25hRequirement already satisfied: numpy<1.29,>=1.22 in /usr/local/lib/python3.10/dist-packages (from cupy-cuda11x) (1.25.2)\n",
            "Requirement already satisfied: fastrlock>=0.5 in /usr/local/lib/python3.10/dist-packages (from cupy-cuda11x) (0.8.2)\n",
            "Installing collected packages: cupy-cuda11x\n",
            "Successfully installed cupy-cuda11x-13.1.0\n"
          ]
        }
      ]
    },
    {
      "cell_type": "code",
      "source": [
        "import cupy as cp\n",
        "import gc"
      ],
      "metadata": {
        "id": "HDcgJCkhfYeA"
      },
      "execution_count": 4,
      "outputs": []
    },
    {
      "cell_type": "code",
      "source": [
        "# import yaml\n",
        "# with open(\"config.yaml\", 'r') as file:\n",
        "#     CONFIG = yaml.safe_load(file)"
      ],
      "metadata": {
        "id": "JKS0gQyRvIQZ"
      },
      "execution_count": null,
      "outputs": []
    },
    {
      "cell_type": "code",
      "source": [
        "import os\n",
        "import h5py\n",
        "import numpy as np\n",
        "import pandas as pd"
      ],
      "metadata": {
        "id": "JmVA-72nyo9b"
      },
      "execution_count": null,
      "outputs": []
    },
    {
      "cell_type": "markdown",
      "metadata": {
        "id": "yAvWyENbeTdh"
      },
      "source": [
        "# Dataset"
      ]
    },
    {
      "cell_type": "markdown",
      "metadata": {
        "id": "5746GWR6eTeL"
      },
      "source": [
        "## Make and Prepare Dataset"
      ]
    },
    {
      "cell_type": "markdown",
      "source": [
        "### Make Input"
      ],
      "metadata": {
        "id": "1niTm4fzwUNR"
      }
    },
    {
      "cell_type": "code",
      "execution_count": 28,
      "metadata": {
        "id": "0_8SsXrHeTeN"
      },
      "outputs": [],
      "source": [
        "import cv2\n",
        "import importlib\n",
        "from modules import processing\n",
        "importlib.reload(processing)\n",
        "\n",
        "frame_standardization = processing.StandardizeFrame(\n",
        "    target_resolution=(240,240),\n",
        "    target_frame_rate=1,\n",
        "    target_color_space=cv2.COLOR_BGR2RGB)\n",
        "\n",
        "HR_dataset_formaxion = processing.HRcompute(\n",
        "    0.4,\n",
        "    4,\n",
        "    4,\n",
        "    30)"
      ]
    },
    {
      "cell_type": "code",
      "source": [
        "scamps_dir = \"dataset/scamps_videos_example/matrix/\"\n",
        "\n",
        "matrix_files = os.listdir(scamps_dir)\n",
        "\n",
        "scamps = []\n",
        "for f,file in enumerate(matrix_files):\n",
        "  if file != \".ipynb_checkpoints\":\n",
        "    scamps.append(h5py.File(scamps_dir+file,\"r\")[\"Xsub\"])\n",
        "\n",
        "for s in range(len(scamps)):\n",
        "  scamps[s] = np.asarray(scamps[s]).astype(np.short)\n",
        "  print(f\"File: {s} Loaded\")\n",
        "\n",
        "scamps = cp.array(scamps)\n",
        "\n",
        "print(scamps.shape)\n",
        "print(type(scamps))"
      ],
      "metadata": {
        "id": "px_a0p_4yh9X"
      },
      "execution_count": null,
      "outputs": []
    },
    {
      "cell_type": "code",
      "source": [
        "scamps = cp.split(scamps,int(600/8),axis=-1)"
      ],
      "metadata": {
        "id": "BO-wFp2rkgAm"
      },
      "execution_count": 19,
      "outputs": []
    },
    {
      "cell_type": "code",
      "source": [
        "print(scamps[0].shape)\n",
        "print(type(scamps),len(scamps),type(scamps[0]))"
      ],
      "metadata": {
        "id": "6SMDrbH-kngJ",
        "outputId": "af8b68d3-1198-423e-e279-4359d87947a4",
        "colab": {
          "base_uri": "https://localhost:8080/"
        }
      },
      "execution_count": 20,
      "outputs": [
        {
          "output_type": "stream",
          "name": "stdout",
          "text": [
            "(10, 3, 240, 240, 8)\n",
            "<class 'list'> 75 <class 'cupy.ndarray'>\n"
          ]
        }
      ]
    },
    {
      "cell_type": "code",
      "source": [
        "scamps = cp.array(scamps)\n",
        "\n",
        "print(scamps.shape)\n",
        "print(type(scamps))"
      ],
      "metadata": {
        "id": "2Zik793csJ_6",
        "outputId": "c6f55522-d7c5-4666-ddd9-9f9151f8b406",
        "colab": {
          "base_uri": "https://localhost:8080/"
        }
      },
      "execution_count": 22,
      "outputs": [
        {
          "output_type": "stream",
          "name": "stdout",
          "text": [
            "(75, 10, 3, 240, 240, 8)\n",
            "<class 'cupy.ndarray'>\n"
          ]
        }
      ]
    },
    {
      "cell_type": "code",
      "source": [
        "scamps = scamps.reshape(750,3,240,240,8)\n",
        "scamps = cp.moveaxis(scamps,[0,1,2,3,4],[0,4,2,3,1])\n",
        "\n",
        "print(type(scamps), scamps.shape)"
      ],
      "metadata": {
        "id": "660k7Gh-mM1e",
        "outputId": "c035115b-b175-4525-eb49-52cf9d6a800e",
        "colab": {
          "base_uri": "https://localhost:8080/"
        }
      },
      "execution_count": 23,
      "outputs": [
        {
          "output_type": "stream",
          "name": "stdout",
          "text": [
            "<class 'cupy.ndarray'> (750, 8, 240, 240, 3)\n"
          ]
        }
      ]
    },
    {
      "cell_type": "code",
      "execution_count": 35,
      "metadata": {
        "id": "DAKueo2UeTeV",
        "outputId": "052fb825-35b4-4c09-c969-e89a1736f5bf",
        "colab": {
          "base_uri": "https://localhost:8080/"
        }
      },
      "outputs": [
        {
          "output_type": "stream",
          "name": "stdout",
          "text": [
            "<class 'cupy.ndarray'> (750, 8, 240, 240, 3)\n"
          ]
        }
      ],
      "source": [
        "for s in range(len(scamps)):\n",
        "  scamps[s] = cp.array(frame_standardization.standardize(scamps[s].get(),current_frame_rate=1))\n",
        "\n",
        "print(type(scamps),scamps.shape)"
      ]
    },
    {
      "cell_type": "markdown",
      "source": [
        "### Make Targets"
      ],
      "metadata": {
        "id": "rPvJsqDOwaGK"
      }
    },
    {
      "cell_type": "code",
      "source": [
        "scamps_labels_dir = \"dataset/scamps_videos_example/labels/\"\n",
        "\n",
        "label_files = os.listdir(scamps_labels_dir)\n",
        "scamps_labels = []\n",
        "for f,file in enumerate(label_files):\n",
        "  if file != \".ipynb_checkpoints\":\n",
        "    scamps_labels.append(pd.read_csv(scamps_labels_dir+file)[\"d_ppg\"])\n",
        "\n",
        "scamps_labels = cp.array(scamps_labels)\n",
        "\n",
        "print(type(scamps_labels),scamps_labels.shape)"
      ],
      "metadata": {
        "id": "GDv46YaHeqYu",
        "outputId": "f3a65316-8406-4442-88db-f5212ad3ba2a",
        "colab": {
          "base_uri": "https://localhost:8080/"
        }
      },
      "execution_count": 49,
      "outputs": [
        {
          "output_type": "stream",
          "name": "stdout",
          "text": [
            "<class 'cupy.ndarray'> (10, 600)\n"
          ]
        }
      ]
    },
    {
      "cell_type": "code",
      "source": [
        "scamps_labels = cp.array(cp.split(scamps_labels,int(600/8),axis=-1))\n",
        "print(type(scamps_labels),scamps_labels.shape)"
      ],
      "metadata": {
        "id": "fdEWnQsLzVND",
        "outputId": "aab68874-dc03-4acc-819b-266d94fc7675",
        "colab": {
          "base_uri": "https://localhost:8080/"
        }
      },
      "execution_count": 50,
      "outputs": [
        {
          "output_type": "stream",
          "name": "stdout",
          "text": [
            "<class 'cupy.ndarray'> (75, 10, 8)\n"
          ]
        }
      ]
    },
    {
      "cell_type": "code",
      "source": [
        "scamps_labels = scamps_labels.reshape(750,8)\n",
        "print(type(scamps_labels),scamps_labels.shape)"
      ],
      "metadata": {
        "id": "I6cHfk-P0UY2",
        "outputId": "1d3a0b50-4186-44f5-98e4-f5d775af8eeb",
        "colab": {
          "base_uri": "https://localhost:8080/"
        }
      },
      "execution_count": 52,
      "outputs": [
        {
          "output_type": "stream",
          "name": "stdout",
          "text": [
            "<class 'cupy.ndarray'> (750, 8)\n"
          ]
        }
      ]
    },
    {
      "cell_type": "markdown",
      "source": [
        "# Training Network"
      ],
      "metadata": {
        "id": "woaS0VPu5WzB"
      }
    },
    {
      "cell_type": "code",
      "source": [
        "# @title NeuralNet\n",
        "\n",
        "\n",
        "import torch\n",
        "import torch.nn as nn\n",
        "import torch.nn.functional as F\n",
        "\n",
        "class CNN3D(nn.Module):\n",
        "    def __init__(self):\n",
        "        super(CNN3D, self).__init__()\n",
        "        # 3D Convolutional layers\n",
        "        self.conv1 = nn.Conv3d(in_channels=3, out_channels=16, kernel_size=(3, 3, 3), stride=1, padding=1)\n",
        "        self.conv2 = nn.Conv3d(in_channels=16, out_channels=32, kernel_size=(3, 3, 3), stride=1, padding=1)\n",
        "        self.conv3 = nn.Conv3d(in_channels=32, out_channels=64, kernel_size=(3, 3, 3), stride=1, padding=1)\n",
        "\n",
        "        # Fully connected layers\n",
        "        self.fc1 = nn.Linear(64 * 8 * 30 * 30, 128)\n",
        "        self.fc2 = nn.Linear(128, 8)\n",
        "\n",
        "    def forward(self, x):\n",
        "        # Apply 3D convolutions\n",
        "        x = F.relu(self.conv1(x))\n",
        "        x = F.max_pool3d(x, kernel_size=(1, 2, 2))  # Only pool spatial dimensions\n",
        "        x = F.relu(self.conv2(x))\n",
        "        x = F.max_pool3d(x, kernel_size=(1, 2, 2))\n",
        "        x = F.relu(self.conv3(x))\n",
        "        x = F.max_pool3d(x, kernel_size=(1, 2, 2))\n",
        "\n",
        "        # Flatten the output of the last conv layer\n",
        "        x = x.view(x.size(0), -1)\n",
        "\n",
        "        # Apply fully connected layers\n",
        "        x = F.relu(self.fc1(x))\n",
        "        x = self.fc2(x)\n",
        "        return x\n",
        "\n",
        "# Instantiate the model\n",
        "model = CNN3D()\n",
        "\n",
        "# Print the model architecture\n",
        "print(model)\n"
      ],
      "metadata": {
        "cellView": "form",
        "id": "OMTt_PYx5ZR2",
        "outputId": "80878906-718a-45b3-a758-c7f935703258",
        "colab": {
          "base_uri": "https://localhost:8080/"
        }
      },
      "execution_count": 54,
      "outputs": [
        {
          "output_type": "stream",
          "name": "stdout",
          "text": [
            "CNN3D(\n",
            "  (conv1): Conv3d(3, 16, kernel_size=(3, 3, 3), stride=(1, 1, 1), padding=(1, 1, 1))\n",
            "  (conv2): Conv3d(16, 32, kernel_size=(3, 3, 3), stride=(1, 1, 1), padding=(1, 1, 1))\n",
            "  (conv3): Conv3d(32, 64, kernel_size=(3, 3, 3), stride=(1, 1, 1), padding=(1, 1, 1))\n",
            "  (fc1): Linear(in_features=460800, out_features=128, bias=True)\n",
            "  (fc2): Linear(in_features=128, out_features=8, bias=True)\n",
            ")\n"
          ]
        }
      ]
    },
    {
      "cell_type": "code",
      "source": [
        "scamps = cp.asnumpy(scamps)\n",
        "scamps_labels = cp.asnumpy(scamps_labels)\n",
        "\n",
        "scamps = torch.tensor(scamps).cuda()\n",
        "scamps_labels = torch.tensor(scamps).cuda()"
      ],
      "metadata": {
        "id": "8RJTJ9kR66Re",
        "outputId": "a9f1cadc-9368-42ca-86e6-ba6dc160c53c",
        "colab": {
          "base_uri": "https://localhost:8080/"
        }
      },
      "execution_count": 57,
      "outputs": [
        {
          "output_type": "stream",
          "name": "stderr",
          "text": [
            "<ipython-input-57-29f26942048c>:2: UserWarning: To copy construct from a tensor, it is recommended to use sourceTensor.clone().detach() or sourceTensor.clone().detach().requires_grad_(True), rather than torch.tensor(sourceTensor).\n",
            "  scamps_labels = torch.tensor(scamps).cuda()\n"
          ]
        }
      ]
    },
    {
      "cell_type": "code",
      "source": [
        "# @title Dataset/Dataloader Creation\n",
        "\n",
        "import torch\n",
        "from torch.utils.data import Dataset, DataLoader\n",
        "from torch.utils.data import random_split\n",
        "\n",
        "class CustomDataset(Dataset):\n",
        "    def __init__(self, input_data, target_data):\n",
        "        self.input_data = input_data\n",
        "        self.target_data = target_data\n",
        "\n",
        "    def __len__(self):\n",
        "        return len(self.input_data)\n",
        "\n",
        "    def __getitem__(self, idx):\n",
        "        input_sample = self.input_data[idx]\n",
        "        target_sample = self.target_data[idx]\n",
        "        return input_sample, target_sample\n",
        "\n",
        "dataset = CustomDataset(scamps, scamps_labels)\n",
        "\n",
        "train_size = int(0.7 * len(dataset))\n",
        "test_size = len(dataset) - train_size\n",
        "\n",
        "train_dataset, test_dataset = random_split(dataset, [train_size, test_size])\n",
        "\n",
        "batch_size = int(0.2*train_size)\n",
        "train_dataloader = DataLoader(train_dataset, batch_size=batch_size, shuffle=True)\n",
        "test_dataloader = DataLoader(test_dataset, batch_size=batch_size)\n",
        "\n",
        "print(\"Training dataset size:\", len(train_dataset))\n",
        "print(\"Testing dataset size:\", len(test_dataset))"
      ],
      "metadata": {
        "id": "hZxsI8iUHHTR",
        "outputId": "52fa19cd-c104-4fc1-af6d-4ff9fe0c0a0e",
        "colab": {
          "base_uri": "https://localhost:8080/"
        }
      },
      "execution_count": 64,
      "outputs": [
        {
          "output_type": "stream",
          "name": "stdout",
          "text": [
            "Training dataset size: 525\n",
            "Testing dataset size: 225\n"
          ]
        }
      ]
    },
    {
      "cell_type": "code",
      "source": [
        "# @title Training\n",
        "\n",
        "import torch.optim as optim\n",
        "\n",
        "# Define the loss function and optimizer\n",
        "criterion = nn.MSELoss()  # Mean Squared Error loss\n",
        "optimizer = optim.Adam(model.parameters(), lr=0.001)  # Adam optimizer\n",
        "\n",
        "model = CNN3D().cuda()\n",
        "\n",
        "num_epochs = 1000\n",
        "for epoch in range(num_epochs):\n",
        "    model.train()\n",
        "    running_loss = 0.0\n",
        "\n",
        "    for inputs, targets in train_dataloader:\n",
        "\n",
        "      inputs = inputs.to(torch.float32)\n",
        "      targets = targets.to(torch.float32)\n",
        "\n",
        "      optimizer.zero_grad()  # Zero the parameter gradients\n",
        "\n",
        "      # Forward pass\n",
        "      outputs = model(inputs)\n",
        "\n",
        "      # Compute the loss\n",
        "      loss = criterion(outputs, targets)\n",
        "\n",
        "      # Backward pass and optimization\n",
        "      loss.backward()\n",
        "      optimizer.step()\n",
        "\n",
        "      # Accumulate the loss\n",
        "      running_loss += loss.item() * inputs.size(0)\n",
        "\n",
        "    # Calculate average loss for the epoch\n",
        "    epoch_loss = running_loss / len(train_dataset)\n",
        "\n",
        "    # Print the average loss for the epoch\n",
        "    print(f'Epoch [{epoch+1}/{num_epochs}], Loss: {epoch_loss:.4f}')\n",
        "\n",
        "# Optionally, evaluate the model on the test dataset\n",
        "model.eval()  # Set model to evaluation mode\n",
        "test_loss = 0.0\n",
        "\n",
        "# Iterate over the test dataset\n",
        "for inputs, targets in test_dataloader:\n",
        "\n",
        "    inputs = inputs.to(torch.float32)\n",
        "    targets = targets.to(torch.float32)\n",
        "\n",
        "    # Forward pass\n",
        "    outputs = model(inputs)\n",
        "\n",
        "    # Compute the loss\n",
        "    test_loss += criterion(outputs, targets).item() * inputs.size(0)\n",
        "\n",
        "# Calculate average test loss\n",
        "test_loss /= len(test_dataset)\n",
        "\n",
        "# Print the average test loss\n",
        "print(f'Test Loss: {test_loss:.4f}')"
      ],
      "metadata": {
        "id": "kt1nnZ2c6Qut",
        "outputId": "ab2bc2b1-d9fa-4630-90e0-653977d15fa9",
        "colab": {
          "base_uri": "https://localhost:8080/",
          "height": 394
        }
      },
      "execution_count": 66,
      "outputs": [
        {
          "output_type": "error",
          "ename": "RuntimeError",
          "evalue": "Given groups=1, weight of size [16, 3, 3, 3, 3], expected input[105, 8, 240, 240, 3] to have 3 channels, but got 8 channels instead",
          "traceback": [
            "\u001b[0;31m---------------------------------------------------------------------------\u001b[0m",
            "\u001b[0;31mRuntimeError\u001b[0m                              Traceback (most recent call last)",
            "\u001b[0;32m<ipython-input-66-26e9446187be>\u001b[0m in \u001b[0;36m<cell line: 12>\u001b[0;34m()\u001b[0m\n\u001b[1;32m     22\u001b[0m \u001b[0;34m\u001b[0m\u001b[0m\n\u001b[1;32m     23\u001b[0m       \u001b[0;31m# Forward pass\u001b[0m\u001b[0;34m\u001b[0m\u001b[0;34m\u001b[0m\u001b[0m\n\u001b[0;32m---> 24\u001b[0;31m       \u001b[0moutputs\u001b[0m \u001b[0;34m=\u001b[0m \u001b[0mmodel\u001b[0m\u001b[0;34m(\u001b[0m\u001b[0minputs\u001b[0m\u001b[0;34m)\u001b[0m\u001b[0;34m\u001b[0m\u001b[0;34m\u001b[0m\u001b[0m\n\u001b[0m\u001b[1;32m     25\u001b[0m \u001b[0;34m\u001b[0m\u001b[0m\n\u001b[1;32m     26\u001b[0m       \u001b[0;31m# Compute the loss\u001b[0m\u001b[0;34m\u001b[0m\u001b[0;34m\u001b[0m\u001b[0m\n",
            "\u001b[0;32m/usr/local/lib/python3.10/dist-packages/torch/nn/modules/module.py\u001b[0m in \u001b[0;36m_wrapped_call_impl\u001b[0;34m(self, *args, **kwargs)\u001b[0m\n\u001b[1;32m   1530\u001b[0m             \u001b[0;32mreturn\u001b[0m \u001b[0mself\u001b[0m\u001b[0;34m.\u001b[0m\u001b[0m_compiled_call_impl\u001b[0m\u001b[0;34m(\u001b[0m\u001b[0;34m*\u001b[0m\u001b[0margs\u001b[0m\u001b[0;34m,\u001b[0m \u001b[0;34m**\u001b[0m\u001b[0mkwargs\u001b[0m\u001b[0;34m)\u001b[0m  \u001b[0;31m# type: ignore[misc]\u001b[0m\u001b[0;34m\u001b[0m\u001b[0;34m\u001b[0m\u001b[0m\n\u001b[1;32m   1531\u001b[0m         \u001b[0;32melse\u001b[0m\u001b[0;34m:\u001b[0m\u001b[0;34m\u001b[0m\u001b[0;34m\u001b[0m\u001b[0m\n\u001b[0;32m-> 1532\u001b[0;31m             \u001b[0;32mreturn\u001b[0m \u001b[0mself\u001b[0m\u001b[0;34m.\u001b[0m\u001b[0m_call_impl\u001b[0m\u001b[0;34m(\u001b[0m\u001b[0;34m*\u001b[0m\u001b[0margs\u001b[0m\u001b[0;34m,\u001b[0m \u001b[0;34m**\u001b[0m\u001b[0mkwargs\u001b[0m\u001b[0;34m)\u001b[0m\u001b[0;34m\u001b[0m\u001b[0;34m\u001b[0m\u001b[0m\n\u001b[0m\u001b[1;32m   1533\u001b[0m \u001b[0;34m\u001b[0m\u001b[0m\n\u001b[1;32m   1534\u001b[0m     \u001b[0;32mdef\u001b[0m \u001b[0m_call_impl\u001b[0m\u001b[0;34m(\u001b[0m\u001b[0mself\u001b[0m\u001b[0;34m,\u001b[0m \u001b[0;34m*\u001b[0m\u001b[0margs\u001b[0m\u001b[0;34m,\u001b[0m \u001b[0;34m**\u001b[0m\u001b[0mkwargs\u001b[0m\u001b[0;34m)\u001b[0m\u001b[0;34m:\u001b[0m\u001b[0;34m\u001b[0m\u001b[0;34m\u001b[0m\u001b[0m\n",
            "\u001b[0;32m/usr/local/lib/python3.10/dist-packages/torch/nn/modules/module.py\u001b[0m in \u001b[0;36m_call_impl\u001b[0;34m(self, *args, **kwargs)\u001b[0m\n\u001b[1;32m   1539\u001b[0m                 \u001b[0;32mor\u001b[0m \u001b[0m_global_backward_pre_hooks\u001b[0m \u001b[0;32mor\u001b[0m \u001b[0m_global_backward_hooks\u001b[0m\u001b[0;34m\u001b[0m\u001b[0;34m\u001b[0m\u001b[0m\n\u001b[1;32m   1540\u001b[0m                 or _global_forward_hooks or _global_forward_pre_hooks):\n\u001b[0;32m-> 1541\u001b[0;31m             \u001b[0;32mreturn\u001b[0m \u001b[0mforward_call\u001b[0m\u001b[0;34m(\u001b[0m\u001b[0;34m*\u001b[0m\u001b[0margs\u001b[0m\u001b[0;34m,\u001b[0m \u001b[0;34m**\u001b[0m\u001b[0mkwargs\u001b[0m\u001b[0;34m)\u001b[0m\u001b[0;34m\u001b[0m\u001b[0;34m\u001b[0m\u001b[0m\n\u001b[0m\u001b[1;32m   1542\u001b[0m \u001b[0;34m\u001b[0m\u001b[0m\n\u001b[1;32m   1543\u001b[0m         \u001b[0;32mtry\u001b[0m\u001b[0;34m:\u001b[0m\u001b[0;34m\u001b[0m\u001b[0;34m\u001b[0m\u001b[0m\n",
            "\u001b[0;32m<ipython-input-54-2e2459ce9275>\u001b[0m in \u001b[0;36mforward\u001b[0;34m(self, x)\u001b[0m\n\u001b[1;32m     20\u001b[0m     \u001b[0;32mdef\u001b[0m \u001b[0mforward\u001b[0m\u001b[0;34m(\u001b[0m\u001b[0mself\u001b[0m\u001b[0;34m,\u001b[0m \u001b[0mx\u001b[0m\u001b[0;34m)\u001b[0m\u001b[0;34m:\u001b[0m\u001b[0;34m\u001b[0m\u001b[0;34m\u001b[0m\u001b[0m\n\u001b[1;32m     21\u001b[0m         \u001b[0;31m# Apply 3D convolutions\u001b[0m\u001b[0;34m\u001b[0m\u001b[0;34m\u001b[0m\u001b[0m\n\u001b[0;32m---> 22\u001b[0;31m         \u001b[0mx\u001b[0m \u001b[0;34m=\u001b[0m \u001b[0mF\u001b[0m\u001b[0;34m.\u001b[0m\u001b[0mrelu\u001b[0m\u001b[0;34m(\u001b[0m\u001b[0mself\u001b[0m\u001b[0;34m.\u001b[0m\u001b[0mconv1\u001b[0m\u001b[0;34m(\u001b[0m\u001b[0mx\u001b[0m\u001b[0;34m)\u001b[0m\u001b[0;34m)\u001b[0m\u001b[0;34m\u001b[0m\u001b[0;34m\u001b[0m\u001b[0m\n\u001b[0m\u001b[1;32m     23\u001b[0m         \u001b[0mx\u001b[0m \u001b[0;34m=\u001b[0m \u001b[0mF\u001b[0m\u001b[0;34m.\u001b[0m\u001b[0mmax_pool3d\u001b[0m\u001b[0;34m(\u001b[0m\u001b[0mx\u001b[0m\u001b[0;34m,\u001b[0m \u001b[0mkernel_size\u001b[0m\u001b[0;34m=\u001b[0m\u001b[0;34m(\u001b[0m\u001b[0;36m1\u001b[0m\u001b[0;34m,\u001b[0m \u001b[0;36m2\u001b[0m\u001b[0;34m,\u001b[0m \u001b[0;36m2\u001b[0m\u001b[0;34m)\u001b[0m\u001b[0;34m)\u001b[0m  \u001b[0;31m# Only pool spatial dimensions\u001b[0m\u001b[0;34m\u001b[0m\u001b[0;34m\u001b[0m\u001b[0m\n\u001b[1;32m     24\u001b[0m         \u001b[0mx\u001b[0m \u001b[0;34m=\u001b[0m \u001b[0mF\u001b[0m\u001b[0;34m.\u001b[0m\u001b[0mrelu\u001b[0m\u001b[0;34m(\u001b[0m\u001b[0mself\u001b[0m\u001b[0;34m.\u001b[0m\u001b[0mconv2\u001b[0m\u001b[0;34m(\u001b[0m\u001b[0mx\u001b[0m\u001b[0;34m)\u001b[0m\u001b[0;34m)\u001b[0m\u001b[0;34m\u001b[0m\u001b[0;34m\u001b[0m\u001b[0m\n",
            "\u001b[0;32m/usr/local/lib/python3.10/dist-packages/torch/nn/modules/module.py\u001b[0m in \u001b[0;36m_wrapped_call_impl\u001b[0;34m(self, *args, **kwargs)\u001b[0m\n\u001b[1;32m   1530\u001b[0m             \u001b[0;32mreturn\u001b[0m \u001b[0mself\u001b[0m\u001b[0;34m.\u001b[0m\u001b[0m_compiled_call_impl\u001b[0m\u001b[0;34m(\u001b[0m\u001b[0;34m*\u001b[0m\u001b[0margs\u001b[0m\u001b[0;34m,\u001b[0m \u001b[0;34m**\u001b[0m\u001b[0mkwargs\u001b[0m\u001b[0;34m)\u001b[0m  \u001b[0;31m# type: ignore[misc]\u001b[0m\u001b[0;34m\u001b[0m\u001b[0;34m\u001b[0m\u001b[0m\n\u001b[1;32m   1531\u001b[0m         \u001b[0;32melse\u001b[0m\u001b[0;34m:\u001b[0m\u001b[0;34m\u001b[0m\u001b[0;34m\u001b[0m\u001b[0m\n\u001b[0;32m-> 1532\u001b[0;31m             \u001b[0;32mreturn\u001b[0m \u001b[0mself\u001b[0m\u001b[0;34m.\u001b[0m\u001b[0m_call_impl\u001b[0m\u001b[0;34m(\u001b[0m\u001b[0;34m*\u001b[0m\u001b[0margs\u001b[0m\u001b[0;34m,\u001b[0m \u001b[0;34m**\u001b[0m\u001b[0mkwargs\u001b[0m\u001b[0;34m)\u001b[0m\u001b[0;34m\u001b[0m\u001b[0;34m\u001b[0m\u001b[0m\n\u001b[0m\u001b[1;32m   1533\u001b[0m \u001b[0;34m\u001b[0m\u001b[0m\n\u001b[1;32m   1534\u001b[0m     \u001b[0;32mdef\u001b[0m \u001b[0m_call_impl\u001b[0m\u001b[0;34m(\u001b[0m\u001b[0mself\u001b[0m\u001b[0;34m,\u001b[0m \u001b[0;34m*\u001b[0m\u001b[0margs\u001b[0m\u001b[0;34m,\u001b[0m \u001b[0;34m**\u001b[0m\u001b[0mkwargs\u001b[0m\u001b[0;34m)\u001b[0m\u001b[0;34m:\u001b[0m\u001b[0;34m\u001b[0m\u001b[0;34m\u001b[0m\u001b[0m\n",
            "\u001b[0;32m/usr/local/lib/python3.10/dist-packages/torch/nn/modules/module.py\u001b[0m in \u001b[0;36m_call_impl\u001b[0;34m(self, *args, **kwargs)\u001b[0m\n\u001b[1;32m   1539\u001b[0m                 \u001b[0;32mor\u001b[0m \u001b[0m_global_backward_pre_hooks\u001b[0m \u001b[0;32mor\u001b[0m \u001b[0m_global_backward_hooks\u001b[0m\u001b[0;34m\u001b[0m\u001b[0;34m\u001b[0m\u001b[0m\n\u001b[1;32m   1540\u001b[0m                 or _global_forward_hooks or _global_forward_pre_hooks):\n\u001b[0;32m-> 1541\u001b[0;31m             \u001b[0;32mreturn\u001b[0m \u001b[0mforward_call\u001b[0m\u001b[0;34m(\u001b[0m\u001b[0;34m*\u001b[0m\u001b[0margs\u001b[0m\u001b[0;34m,\u001b[0m \u001b[0;34m**\u001b[0m\u001b[0mkwargs\u001b[0m\u001b[0;34m)\u001b[0m\u001b[0;34m\u001b[0m\u001b[0;34m\u001b[0m\u001b[0m\n\u001b[0m\u001b[1;32m   1542\u001b[0m \u001b[0;34m\u001b[0m\u001b[0m\n\u001b[1;32m   1543\u001b[0m         \u001b[0;32mtry\u001b[0m\u001b[0;34m:\u001b[0m\u001b[0;34m\u001b[0m\u001b[0;34m\u001b[0m\u001b[0m\n",
            "\u001b[0;32m/usr/local/lib/python3.10/dist-packages/torch/nn/modules/conv.py\u001b[0m in \u001b[0;36mforward\u001b[0;34m(self, input)\u001b[0m\n\u001b[1;32m    608\u001b[0m \u001b[0;34m\u001b[0m\u001b[0m\n\u001b[1;32m    609\u001b[0m     \u001b[0;32mdef\u001b[0m \u001b[0mforward\u001b[0m\u001b[0;34m(\u001b[0m\u001b[0mself\u001b[0m\u001b[0;34m,\u001b[0m \u001b[0minput\u001b[0m\u001b[0;34m:\u001b[0m \u001b[0mTensor\u001b[0m\u001b[0;34m)\u001b[0m \u001b[0;34m->\u001b[0m \u001b[0mTensor\u001b[0m\u001b[0;34m:\u001b[0m\u001b[0;34m\u001b[0m\u001b[0;34m\u001b[0m\u001b[0m\n\u001b[0;32m--> 610\u001b[0;31m         \u001b[0;32mreturn\u001b[0m \u001b[0mself\u001b[0m\u001b[0;34m.\u001b[0m\u001b[0m_conv_forward\u001b[0m\u001b[0;34m(\u001b[0m\u001b[0minput\u001b[0m\u001b[0;34m,\u001b[0m \u001b[0mself\u001b[0m\u001b[0;34m.\u001b[0m\u001b[0mweight\u001b[0m\u001b[0;34m,\u001b[0m \u001b[0mself\u001b[0m\u001b[0;34m.\u001b[0m\u001b[0mbias\u001b[0m\u001b[0;34m)\u001b[0m\u001b[0;34m\u001b[0m\u001b[0;34m\u001b[0m\u001b[0m\n\u001b[0m\u001b[1;32m    611\u001b[0m \u001b[0;34m\u001b[0m\u001b[0m\n\u001b[1;32m    612\u001b[0m \u001b[0;34m\u001b[0m\u001b[0m\n",
            "\u001b[0;32m/usr/local/lib/python3.10/dist-packages/torch/nn/modules/conv.py\u001b[0m in \u001b[0;36m_conv_forward\u001b[0;34m(self, input, weight, bias)\u001b[0m\n\u001b[1;32m    603\u001b[0m                 \u001b[0mself\u001b[0m\u001b[0;34m.\u001b[0m\u001b[0mgroups\u001b[0m\u001b[0;34m,\u001b[0m\u001b[0;34m\u001b[0m\u001b[0;34m\u001b[0m\u001b[0m\n\u001b[1;32m    604\u001b[0m             )\n\u001b[0;32m--> 605\u001b[0;31m         return F.conv3d(\n\u001b[0m\u001b[1;32m    606\u001b[0m             \u001b[0minput\u001b[0m\u001b[0;34m,\u001b[0m \u001b[0mweight\u001b[0m\u001b[0;34m,\u001b[0m \u001b[0mbias\u001b[0m\u001b[0;34m,\u001b[0m \u001b[0mself\u001b[0m\u001b[0;34m.\u001b[0m\u001b[0mstride\u001b[0m\u001b[0;34m,\u001b[0m \u001b[0mself\u001b[0m\u001b[0;34m.\u001b[0m\u001b[0mpadding\u001b[0m\u001b[0;34m,\u001b[0m \u001b[0mself\u001b[0m\u001b[0;34m.\u001b[0m\u001b[0mdilation\u001b[0m\u001b[0;34m,\u001b[0m \u001b[0mself\u001b[0m\u001b[0;34m.\u001b[0m\u001b[0mgroups\u001b[0m\u001b[0;34m\u001b[0m\u001b[0;34m\u001b[0m\u001b[0m\n\u001b[1;32m    607\u001b[0m         )\n",
            "\u001b[0;31mRuntimeError\u001b[0m: Given groups=1, weight of size [16, 3, 3, 3, 3], expected input[105, 8, 240, 240, 3] to have 3 channels, but got 8 channels instead"
          ]
        }
      ]
    },
    {
      "cell_type": "markdown",
      "metadata": {
        "id": "jir25KnxeTeY"
      },
      "source": [
        "# Pipeline"
      ]
    },
    {
      "cell_type": "code",
      "execution_count": null,
      "metadata": {
        "id": "uTAMItf5eTea"
      },
      "outputs": [],
      "source": [
        "import time\n",
        "\n",
        "import cv2\n",
        "import numpy as np\n",
        "from modules import processing\n",
        "import matplotlib.pyplot as plt"
      ]
    },
    {
      "cell_type": "code",
      "execution_count": null,
      "metadata": {
        "id": "azsNsLSqeTec"
      },
      "outputs": [],
      "source": [
        "frame_standardization = processing.StandardizeFrame(target_resolution=(640,480),target_frame_rate=30,target_color_space=cv2.COLOR_BGR2RGB)\n",
        "face_detect = processing.FaceDetection()\n",
        "ppgi = processing.PPGIcomputation(alpha=0.5,filter_size=5,target_frame_size=(640,480))\n",
        "HR = processing.HRcompute(0.4,4,4,30)"
      ]
    },
    {
      "cell_type": "code",
      "execution_count": null,
      "metadata": {
        "id": "VndIsl4ieTec"
      },
      "outputs": [],
      "source": [
        "def record():\n",
        "\n",
        "    # Initialize Video Capture\n",
        "    cap = cv2.VideoCapture(0)\n",
        "    CAMERA_WIDTH = int(cap.get(cv2.CAP_PROP_FRAME_WIDTH))\n",
        "    CAMERA_HEIGHT = int(cap.get(cv2.CAP_PROP_FRAME_HEIGHT))\n",
        "    CAMERA_FPS = cap.get(cv2.CAP_PROP_FPS)\n",
        "    print((CAMERA_WIDTH,CAMERA_HEIGHT), CAMERA_FPS)\n",
        "\n",
        "    # Check if camers opened succesfully\n",
        "    if not cap.isOpened():\n",
        "        print(\"Error: Could not open video capture\")\n",
        "        return\n",
        "\n",
        "    while True:\n",
        "        ''' TEST FACE IS DETECTED '''\n",
        "\n",
        "        # Capture frame-by-frame\n",
        "        ret, frame = cap.read()\n",
        "        if not ret:\n",
        "            break\n",
        "\n",
        "        # Detect Face\n",
        "        faces, frame = face_detect.extract([frame])\n",
        "        frame = frame[0]\n",
        "        face = faces[0]\n",
        "\n",
        "        for (x, y, w, h) in face:\n",
        "            cv2.rectangle(frame, (x, y), (x + w, y + h), (255, 0, 0), 2)\n",
        "\n",
        "        cv2.imshow(\"Video Stream\", frame)\n",
        "\n",
        "        # Break the loop on \"q\" key press\n",
        "        if cv2.waitKey(1) & 0xFF == ord(\"n\"):\n",
        "            break\n",
        "    cap.release()\n",
        "    cv2.destroyAllWindows()\n",
        "\n",
        "    # Initialize Video Capture\n",
        "    cap = cv2.VideoCapture(0)\n",
        "    CAMERA_WIDTH = int(cap.get(cv2.CAP_PROP_FRAME_WIDTH))\n",
        "    CAMERA_HEIGHT = int(cap.get(cv2.CAP_PROP_FRAME_HEIGHT))\n",
        "    CAMERA_FPS = cap.get(cv2.CAP_PROP_FPS)\n",
        "    print((CAMERA_WIDTH,CAMERA_HEIGHT), CAMERA_FPS)\n",
        "\n",
        "    frames = []\n",
        "    heart_rate = 0\n",
        "    while True:\n",
        "\n",
        "        # Capture frame-by-frame\n",
        "        ret, frame = cap.read()\n",
        "        if not ret:\n",
        "            break\n",
        "\n",
        "        ''' DETECT FACES '''\n",
        "        faces, frame = face_detect.extract([frame])\n",
        "        frame = frame[0]\n",
        "        face = faces[0]\n",
        "\n",
        "        for (x, y, w, h) in face:\n",
        "            cv2.rectangle(frame, (x, y), (x + w, y + h), (255, 255, 255), 2)\n",
        "            text_x = x\n",
        "            text_y = y + h + 25\n",
        "            cv2.putText(frame, f\"{heart_rate} BPM\", (text_x, text_y), cv2.FONT_HERSHEY_SIMPLEX, 0.6, (255, 255, 255), 2)\n",
        "\n",
        "        cv2.imshow(\"Video Stream\", frame)\n",
        "\n",
        "        ''' COMPUTE HSV & PPG '''\n",
        "        if len(faces)==1:\n",
        "            for (x, y, w, h) in face:\n",
        "                frame = frame[y+5:(y+h)-5,x+5:(x+w)-5,:]\n",
        "                if frame.size!=0 and frame.ndim==3:\n",
        "                    frames.append(frame)\n",
        "                    cv2.imshow(\"Facial Skin\", frame)\n",
        "\n",
        "        # Break the loop on \"q\" key press\n",
        "        if cv2.waitKey(1) & 0xFF == ord(\"q\"):\n",
        "            break\n",
        "\n",
        "        if len(frames)==int(8*CAMERA_FPS):\n",
        "            skin_frames, cks = ppgi.extract_face(frames)\n",
        "            ppgi_signal = ppgi.compute_ppgi(skin_frames,cks)\n",
        "            ppgi_signal = np.array(ppgi_signal)\n",
        "            ppg_signal = ppgi.compute_ppg(ppgi_signal)\n",
        "            ppg_signal = processing.butter_bandpass_filter(ppg_signal, 0.4, 4, 30, order=4)\n",
        "            ppg_signal = (ppg_signal-ppg_signal.mean())/ppg_signal.std()\n",
        "            ppg_signal, segments, segments_psd, heart_rate = HR.compute(ppg_signal)\n",
        "            frames = []\n",
        "            print(f\"HEART RATE: {heart_rate} BPM\")\n",
        "\n",
        "\n",
        "    # Release the capture when everythin is done\n",
        "    cap.release()\n",
        "    cv2.destroyAllWindows()\n",
        "    return frames, (CAMERA_WIDTH,CAMERA_HEIGHT, CAMERA_FPS)"
      ]
    },
    {
      "cell_type": "code",
      "execution_count": null,
      "metadata": {
        "id": "bDIwfNvteTef",
        "outputId": "7eefd2ba-70f0-4c7b-b5e3-ac09c05735cd"
      },
      "outputs": [
        {
          "name": "stdout",
          "output_type": "stream",
          "text": [
            "(640, 480) 30.0\n",
            "(640, 480) 30.0\n"
          ]
        },
        {
          "name": "stderr",
          "output_type": "stream",
          "text": [
            "c:\\ProgramData\\miniconda3\\Lib\\site-packages\\scipy\\signal\\_spectral_py.py:2017: UserWarning: nperseg = 256 is greater than input length  = 45, using nperseg = 45\n",
            "  warnings.warn('nperseg = {0:d} is greater than input length '\n",
            "c:\\ProgramData\\miniconda3\\Lib\\site-packages\\scipy\\signal\\_spectral_py.py:2017: UserWarning: nperseg = 256 is greater than input length  = 30, using nperseg = 30\n",
            "  warnings.warn('nperseg = {0:d} is greater than input length '\n"
          ]
        },
        {
          "name": "stdout",
          "output_type": "stream",
          "text": [
            "HEART RATE: 75.0 BPM\n",
            "HEART RATE: 100.0 BPM\n",
            "HEART RATE: 90.0 BPM\n",
            "HEART RATE: 72.5 BPM\n"
          ]
        }
      ],
      "source": [
        "frames, CAMERA_SPECS = record()"
      ]
    },
    {
      "cell_type": "code",
      "execution_count": null,
      "metadata": {
        "id": "NzabgcX0eTeh",
        "outputId": "dae60e24-1f4f-4e5a-b3bb-fdb05d7b6e19"
      },
      "outputs": [
        {
          "data": {
            "text/plain": [
              "86"
            ]
          },
          "execution_count": 6,
          "metadata": {},
          "output_type": "execute_result"
        }
      ],
      "source": [
        "len(frames)\n",
        "# standard_frames = np.array(frame_standardization.standardize(frames,CAMERA_SPECS[-1])).astype(np.uint8)\n",
        "# standard_frames.shape"
      ]
    },
    {
      "cell_type": "code",
      "execution_count": null,
      "metadata": {
        "id": "-R1xkRk8eTej",
        "outputId": "55ed10e4-15fd-4fe0-c9d2-8e39deeb964e"
      },
      "outputs": [
        {
          "name": "stdout",
          "output_type": "stream",
          "text": [
            "2.0 120.0\n",
            "2.0 120.0\n",
            "2.0 120.0\n",
            "2.0 120.0\n",
            "2.0 120.0\n",
            "2.0 120.0\n",
            "2.0 120.0\n",
            "1.875 112.5\n"
          ]
        }
      ],
      "source": [
        "skin_frames, cks = ppgi.extract_face(frames)\n",
        "ppgi_signal = ppgi.compute_ppgi(skin_frames,cks)\n",
        "ppgi_signal = np.array(ppgi_signal)\n",
        "ppg_signal = ppgi.compute_ppg(ppgi_signal)\n",
        "ppg_signal = processing.butter_bandpass_filter(ppg_signal, 0.4, 4, 30, order=4)\n",
        "ppg_signal = (ppg_signal-ppg_signal.mean())/ppg_signal.std()\n",
        "ppg_signal, segments, segments_psd, heart_rate = HR.compute(ppg_signal)"
      ]
    },
    {
      "cell_type": "code",
      "execution_count": null,
      "metadata": {
        "id": "bnoPPbvEeTek",
        "outputId": "16913f0a-4514-4b7f-c1e0-346f15e3806a"
      },
      "outputs": [
        {
          "data": {
            "text/plain": [
              "Text(0.5, 1.0, '119.0625 BPM')"
            ]
          },
          "execution_count": 8,
          "metadata": {},
          "output_type": "execute_result"
        },
        {
          "data": {
            "image/png": "[encoded data removed]",
            "text/plain": [
              "<Figure size 640x480 with 1 Axes>"
            ]
          },
          "metadata": {},
          "output_type": "display_data"
        }
      ],
      "source": [
        "plt.plot(ppg_signal)\n",
        "plt.title(f\"{heart_rate} BPM\")"
      ]
    },
    {
      "cell_type": "code",
      "execution_count": null,
      "metadata": {
        "id": "O59OoswYeTel",
        "outputId": "74570cdc-94cc-49e3-a724-89712cecb2cf"
      },
      "outputs": [
        {
          "data": {
            "text/plain": [
              "Text(0.5, 0.98, '119.0625 BPM')"
            ]
          },
          "execution_count": 9,
          "metadata": {},
          "output_type": "execute_result"
        },
        {
          "data": {
            "image/png": "[encoded data removed]",
            "text/plain": [
              "<Figure size 1600x400 with 16 Axes>"
            ]
          },
          "metadata": {},
          "output_type": "display_data"
        }
      ],
      "source": [
        "fig, ax = plt.subplots(2,8, figsize=(16,4))\n",
        "\n",
        "for s,segment in enumerate(segments):\n",
        "    ax[0,s].plot(segment)\n",
        "\n",
        "for s,psd in enumerate(segments_psd):\n",
        "    ax[1,s].plot(psd[0],psd[1])\n",
        "\n",
        "fig.tight_layout()\n",
        "fig.suptitle(f\"{heart_rate} BPM\")"
      ]
    },
    {
      "cell_type": "code",
      "execution_count": null,
      "metadata": {
        "id": "b2i7vV5QeTem"
      },
      "outputs": [],
      "source": [
        "# fh = 0\n",
        "# for psd in segments_psd:\n",
        "#     print(psd[0][np.argmax(psd[1])],psd[0][np.argmax(psd[1])]*60)\n",
        "#     fh += psd[0][np.argmax(psd[1])]*60\n",
        "# print(f\"{fh/len(segments_psd)} BPM\")"
      ]
    },
    {
      "cell_type": "code",
      "execution_count": null,
      "metadata": {
        "id": "zxVqfCX7eTen"
      },
      "outputs": [],
      "source": [
        "for frame in skin_frames:\n",
        "    cv2.imshow(\"Example\",frame)\n",
        "    if cv2.waitKey(1) & 0xFF == ord(\"q\"):\n",
        "            break\n",
        "cv2.destroyAllWindows()"
      ]
    },
    {
      "cell_type": "code",
      "execution_count": null,
      "metadata": {
        "id": "rcMlkCETeTeo"
      },
      "outputs": [],
      "source": []
    }
  ],
  "metadata": {
    "kernelspec": {
      "display_name": "Python 3",
      "name": "python3"
    },
    "language_info": {
      "codemirror_mode": {
        "name": "ipython",
        "version": 3
      },
      "file_extension": ".py",
      "mimetype": "text/x-python",
      "name": "python",
      "nbconvert_exporter": "python",
      "pygments_lexer": "ipython3",
      "version": "3.12.3"
    },
    "colab": {
      "provenance": [],
      "gpuType": "T4"
    },
    "accelerator": "GPU"
  },
  "nbformat": 4,
  "nbformat_minor": 0
}