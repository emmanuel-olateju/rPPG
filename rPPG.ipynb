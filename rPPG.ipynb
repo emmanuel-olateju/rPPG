{
 "cells": [
  {
   "cell_type": "code",
   "execution_count": 1,
   "metadata": {},
   "outputs": [],
   "source": [
    "import time\n",
    "\n",
    "import cv2\n",
    "import numpy as np\n",
    "from modules import processing"
   ]
  },
  {
   "cell_type": "code",
   "execution_count": 2,
   "metadata": {},
   "outputs": [],
   "source": [
    "pipeline = processing.VideoStandardizationPipeline(target_resolution=(640,480),target_frame_rate=1,target_color_space=cv2.COLOR_BGR2RGB)"
   ]
  },
  {
   "cell_type": "code",
   "execution_count": 3,
   "metadata": {},
   "outputs": [],
   "source": [
    "def run():\n",
    "\n",
    "    # Initialize Video Capture\n",
    "    cap = cv2.VideoCapture(0)\n",
    "\n",
    "    # Check if camers opened succesfully\n",
    "    if not cap.isOpened():\n",
    "        print(\"Error: Could not open video capture\")\n",
    "        return\n",
    "    \n",
    "    # # Calibration process (capture first 20 frames for calibration)\n",
    "    # calibration_frames = []\n",
    "    # for _ in range(20):\n",
    "    #     ret,frame = cap.read()\n",
    "    #     if ret:\n",
    "    #         calibration_frames.append(frame)\n",
    "    # pipeline.calibrate(calibration_frames)\n",
    "\n",
    "    t0 = time.time()\n",
    "    while time.time()-t0<=5:\n",
    "        \n",
    "        # Capture frame-by-frame\n",
    "        ret, frame = cap.read()\n",
    "        if not ret:\n",
    "            break\n",
    "\n",
    "        # Standardize frame\n",
    "        standrdized_frame = np.array(pipeline.standardize([frame]))\n",
    "        standrdized_frame = np.squeeze(standrdized_frame,0)\n",
    "\n",
    "        # Display the resulting frame\n",
    "        cv2.imshow(\"Standardized Frame\", standrdized_frame)\n",
    "\n",
    "        # Break the loop on \"q\" key press\n",
    "        if cv2.waitKey(1) & 0xFF == ord(\"q\"):\n",
    "            break\n",
    "    \n",
    "    # Release the capture when everythin is done\n",
    "    cap.release()\n",
    "    cv2.destroyAllWindows()"
   ]
  },
  {
   "cell_type": "code",
   "execution_count": 4,
   "metadata": {},
   "outputs": [],
   "source": [
    "run()"
   ]
  },
  {
   "cell_type": "code",
   "execution_count": null,
   "metadata": {},
   "outputs": [],
   "source": []
  }
 ],
 "metadata": {
  "kernelspec": {
   "display_name": "base",
   "language": "python",
   "name": "python3"
  },
  "language_info": {
   "codemirror_mode": {
    "name": "ipython",
    "version": 3
   },
   "file_extension": ".py",
   "mimetype": "text/x-python",
   "name": "python",
   "nbconvert_exporter": "python",
   "pygments_lexer": "ipython3",
   "version": "3.12.3"
  }
 },
 "nbformat": 4,
 "nbformat_minor": 2
}
